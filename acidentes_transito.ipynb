{
 "cells": [
  {
   "cell_type": "markdown",
   "id": "5aa53c14-f470-4d78-8080-9199dcaaa924",
   "metadata": {},
   "source": [
    "<h1>ANÁLISE DE ACIDENTES DE TRÂNSITO EM 2024</h1>"
   ]
  },
  {
   "cell_type": "raw",
   "id": "14a0d4c2-bd00-427c-95f2-867f089c1833",
   "metadata": {},
   "source": [
    "Esse estudo tem como objetivo fornecer informações sobre acidentes de trânsito com dados governamentais entre janeiro e fevereiro de 2024. O arquivo usado foi de \"2024 agrupado por pessoa - todas as causas e tipos de acidentes\", disponível em https://www.gov.br/prf/pt-br/acesso-a-informacao/dados-abertos/dados-abertos-da-prf"
   ]
  },
  {
   "cell_type": "markdown",
   "id": "58e5110f-c29c-4ae4-8175-8a26d01a051a",
   "metadata": {},
   "source": [
    "<h2> IMPORTAÇÃO DA BASE </h2>"
   ]
  },
  {
   "cell_type": "code",
   "execution_count": 9,
   "id": "54b15ad0-e616-41b0-b51c-49816f25932c",
   "metadata": {},
   "outputs": [],
   "source": [
    "import pandas as pd\n",
    "import os\n",
    "import matplotlib.pyplot as plt\n",
    "import seaborn as sns\n",
    "\n",
    "pasta = r\"C:\\Users\\bserpellone\\Desktop\\Python\\Dataset\\acidente de transito\"\n",
    "df = pd.read_csv(os.path.join(pasta,'acidentes2024_todas_causas_tipos.csv'),encoding='ANSI',delimiter=';')"
   ]
  },
  {
   "cell_type": "markdown",
   "id": "df0ca104-6c03-4361-a3c5-d35ff265988e",
   "metadata": {},
   "source": [
    "<h2>VISUALIZAÇÃO DA BASE</h2>"
   ]
  },
  {
   "cell_type": "code",
   "execution_count": 10,
   "id": "711c2a6e-b56f-4c7b-acf8-e19b81d7e086",
   "metadata": {},
   "outputs": [
    {
     "data": {
      "text/plain": [
       "(85391, 37)"
      ]
     },
     "execution_count": 10,
     "metadata": {},
     "output_type": "execute_result"
    }
   ],
   "source": [
    "df.shape"
   ]
  },
  {
   "cell_type": "markdown",
   "id": "aa0d9a1f-6eae-4e41-ad34-c6cd564bfba8",
   "metadata": {},
   "source": [
    "A base tem 85.391 linhas e 37 colunas"
   ]
  },
  {
   "cell_type": "markdown",
   "id": "c8af3bd8-901f-4ac1-a875-9a6385447c68",
   "metadata": {},
   "source": [
    "Dando uma olhada nas colunas para saber quais informações estão disponíveis:"
   ]
  },
  {
   "cell_type": "code",
   "execution_count": 11,
   "id": "41d418c5-4f49-41cb-bddf-70ac0425aa84",
   "metadata": {},
   "outputs": [
    {
     "data": {
      "text/plain": [
       "Index(['id', 'pesid', 'data_inversa', 'dia_semana', 'horario', 'uf', 'br',\n",
       "       'km', 'municipio', 'causa_principal', 'causa_acidente',\n",
       "       'ordem_tipo_acidente', 'tipo_acidente', 'classificacao_acidente',\n",
       "       'fase_dia', 'sentido_via', 'condicao_metereologica', 'tipo_pista',\n",
       "       'tracado_via', 'uso_solo', 'id_veiculo', 'tipo_veiculo', 'marca',\n",
       "       'ano_fabricacao_veiculo', 'tipo_envolvido', 'estado_fisico', 'idade',\n",
       "       'sexo', 'ilesos', 'feridos_leves', 'feridos_graves', 'mortos',\n",
       "       'latitude', 'longitude', 'regional', 'delegacia', 'uop'],\n",
       "      dtype='object')"
      ]
     },
     "execution_count": 11,
     "metadata": {},
     "output_type": "execute_result"
    }
   ],
   "source": [
    "df.columns"
   ]
  },
  {
   "cell_type": "markdown",
   "id": "829861a4-4ee4-40e3-8153-e0b00184d64c",
   "metadata": {},
   "source": [
    "<h2>ANÁLISES GERAIS</h2>"
   ]
  },
  {
   "cell_type": "markdown",
   "id": "4cec16c9-7be1-48d9-b5c5-26ca9e19f655",
   "metadata": {},
   "source": [
    "<h4>Distribuição de acidentes por dias da semana</h4>"
   ]
  },
  {
   "cell_type": "code",
   "execution_count": 73,
   "id": "c2ace4b2-daff-4ba0-8560-a02cc8bb4105",
   "metadata": {},
   "outputs": [
    {
     "data": {
      "text/plain": [
       "dia_semana\n",
       "domingo          0.155591\n",
       "segunda-feira    0.145916\n",
       "quarta-feira     0.144760\n",
       "sábado           0.144713\n",
       "terça-feira      0.140029\n",
       "sexta-feira      0.135238\n",
       "quinta-feira     0.133752\n",
       "Name: proportion, dtype: float64"
      ]
     },
     "execution_count": 73,
     "metadata": {},
     "output_type": "execute_result"
    }
   ],
   "source": [
    "df['dia_semana'].value_counts(normalize=True)"
   ]
  },
  {
   "cell_type": "markdown",
   "id": "863deea1-fe2f-4224-8b7a-96a5aa9e0a95",
   "metadata": {},
   "source": [
    "<h4>Distribuição de acidentes em % por tipo de veículo (top 5)</h4>"
   ]
  },
  {
   "cell_type": "code",
   "execution_count": 13,
   "id": "b16355c4-0748-4c37-bdc2-8293fb69f1ee",
   "metadata": {},
   "outputs": [
    {
     "data": {
      "text/plain": [
       "tipo_veiculo\n",
       "Automóvel          0.38\n",
       "Motocicleta        0.19\n",
       "Caminhonete        0.09\n",
       "Caminhão-trator    0.07\n",
       "Ônibus             0.06\n",
       "Name: proportion, dtype: float64"
      ]
     },
     "execution_count": 13,
     "metadata": {},
     "output_type": "execute_result"
    }
   ],
   "source": [
    "df['tipo_veiculo'].value_counts(normalize=True).sort_values(ascending=False).round(2).head(5)"
   ]
  },
  {
   "cell_type": "markdown",
   "id": "5b0b2391-6167-46cf-9894-c2ae4c24b69f",
   "metadata": {},
   "source": [
    "<h4>Quais as faixas de horas que mais aconteceram acidentes?</h4>"
   ]
  },
  {
   "cell_type": "markdown",
   "id": "a38dd658-0d73-4ad2-b73e-b19740fac5f4",
   "metadata": {},
   "source": [
    "A coluna horario tem a hora, minuto e segundo do acidente. Nessa análise gostaria de agrupar as horas em grupos de faixas de 2h:"
   ]
  },
  {
   "cell_type": "code",
   "execution_count": 15,
   "id": "f0ce6852-1bec-49a9-8490-6c1616f03b4e",
   "metadata": {},
   "outputs": [],
   "source": [
    "df['horario'] = pd.to_datetime(df['horario'])\n",
    "arredondar_abaixo = df['horario'].dt.floor('2h')\n",
    "arredondar_acima = df['horario'].dt.ceil('2h')\n",
    "df = df.copy()\n",
    "# p/ casos que as 2 variáveis do arredondar sejam iguais, alterar:\n",
    "arredondar_acima = arredondar_acima.where(arredondar_acima != arredondar_abaixo, arredondar_acima + pd.Timedelta(hours=2))\n",
    "# criação da coluna hora_acidente_agrupada\n",
    "df['hora_acidente_agrupada'] = arredondar_abaixo.dt.strftime('%Hh') + ' às ' + arredondar_acima.dt.strftime('%Hh')"
   ]
  },
  {
   "cell_type": "code",
   "execution_count": 16,
   "id": "4d37ac60-b92a-4295-b4c3-919114a75313",
   "metadata": {},
   "outputs": [
    {
     "data": {
      "text/plain": [
       "hora_acidente_agrupada\n",
       "16h às 18h    0.12\n",
       "18h às 20h    0.12\n",
       "14h às 16h    0.11\n",
       "12h às 14h    0.10\n",
       "06h às 08h    0.09\n",
       "08h às 10h    0.09\n",
       "10h às 12h    0.09\n",
       "20h às 22h    0.08\n",
       "22h às 00h    0.06\n",
       "04h às 06h    0.05\n",
       "00h às 02h    0.05\n",
       "02h às 04h    0.04\n",
       "Name: proportion, dtype: float64"
      ]
     },
     "execution_count": 16,
     "metadata": {},
     "output_type": "execute_result"
    }
   ],
   "source": [
    "df['hora_acidente_agrupada'].value_counts(normalize=True).round(2)"
   ]
  },
  {
   "cell_type": "markdown",
   "id": "92d76d53-4369-402f-8544-1e3d40217797",
   "metadata": {},
   "source": [
    "<h4>Em cada dia da semana, qual a faixa de horário que acontece mais acidentes?</h4>"
   ]
  },
  {
   "cell_type": "code",
   "execution_count": 17,
   "id": "c07d665f-0f75-4483-b794-da3313d4ba4c",
   "metadata": {},
   "outputs": [
    {
     "data": {
      "text/plain": [
       "dia_semana     dia_semana     hora_acidente_agrupada\n",
       "domingo        domingo        18h às 20h                0.15\n",
       "quarta-feira   quarta-feira   16h às 18h                0.12\n",
       "quinta-feira   quinta-feira   16h às 18h                0.14\n",
       "segunda-feira  segunda-feira  16h às 18h                0.13\n",
       "sexta-feira    sexta-feira    18h às 20h                0.13\n",
       "sábado         sábado         18h às 20h                0.11\n",
       "terça-feira    terça-feira    16h às 18h                0.14\n",
       "Name: proportion, dtype: float64"
      ]
     },
     "execution_count": 17,
     "metadata": {},
     "output_type": "execute_result"
    }
   ],
   "source": [
    "df.groupby('dia_semana')['hora_acidente_agrupada'].value_counts(normalize=True).round(2).groupby(level=0).nlargest(1)"
   ]
  },
  {
   "cell_type": "markdown",
   "id": "9877577e-f27e-411c-b405-506e3754f3bc",
   "metadata": {},
   "source": [
    "<h4>Como foi a distribuição de acidentes por região?</h4>"
   ]
  },
  {
   "cell_type": "markdown",
   "id": "8c848d67-e2d1-4f32-8670-b62b6c43a337",
   "metadata": {},
   "source": [
    "<h5>Adicionando a coluna regiao a partir da uf:</h5>"
   ]
  },
  {
   "cell_type": "code",
   "execution_count": 18,
   "id": "d8a4a412-5af6-4c10-b4d5-098c37d2319b",
   "metadata": {},
   "outputs": [
    {
     "data": {
      "text/plain": [
       "regiao\n",
       "Sul             0.31\n",
       "Sudeste         0.28\n",
       "Nordeste        0.21\n",
       "Centro-oeste    0.13\n",
       "Norte           0.07\n",
       "Name: proportion, dtype: float64"
      ]
     },
     "execution_count": 18,
     "metadata": {},
     "output_type": "execute_result"
    }
   ],
   "source": [
    "uf_regiao = {'uf': ['AC', 'AP', 'AM', 'BA', 'CE', 'DF', 'ES', 'GO', 'MA', 'MT', 'MS', 'MG', 'PA', 'PB', 'PR', 'PE', 'PI', 'RJ', 'RN', 'RS', 'RO', 'SC', 'SP', 'SE', 'TO'], \n",
    "             'regiao': ['Norte', 'Norte', 'Norte', 'Nordeste', 'Nordeste', 'Centro-oeste', 'Sudeste', 'Centro-oeste', 'Nordeste', 'Centro-oeste', 'Centro-oeste', 'Sudeste', 'Norte', 'Nordeste', 'Sul', 'Nordeste', 'Nordeste', 'Sudeste', 'Nordeste', 'Sul', 'Norte', 'Sul', 'Sudeste', 'Nordeste', 'Norte']\n",
    "             }\n",
    "df_uf_regiao = pd.DataFrame(uf_regiao)\n",
    "df = df.merge(df_uf_regiao, on='uf')\n",
    "df['regiao'].value_counts(normalize=True).round(2)"
   ]
  },
  {
   "cell_type": "markdown",
   "id": "614a0208-78d3-4e52-9b40-6c692ebce6a2",
   "metadata": {},
   "source": [
    "<h5>Normalizando pela população de cada região (dados do Censo de 2022):</h5>"
   ]
  },
  {
   "cell_type": "code",
   "execution_count": 19,
   "id": "3fa81c3e-b86c-40ee-b50b-bc053c5f5d5b",
   "metadata": {},
   "outputs": [],
   "source": [
    "pop_regiao = {'Centro-oeste': 16287809, 'Nordeste': 54644582, 'Norte': 17349619, 'Sudeste': 84847187, 'Sul':29933315}\n",
    "acidente_regiao = df['regiao'].value_counts().round(2)\n",
    "acidente_hab = acidente_regiao / acidente_regiao.index.map(pop_regiao)"
   ]
  },
  {
   "cell_type": "code",
   "execution_count": 74,
   "id": "aa69778f-711c-44c2-9cff-e92ed7790987",
   "metadata": {},
   "outputs": [
    {
     "data": {
      "text/plain": [
       "regiao\n",
       "Sul             0.000870\n",
       "Centro-oeste    0.000661\n",
       "Norte           0.000358\n",
       "Nordeste        0.000332\n",
       "Sudeste         0.000278\n",
       "dtype: float64"
      ]
     },
     "execution_count": 74,
     "metadata": {},
     "output_type": "execute_result"
    }
   ],
   "source": [
    "acidente_hab.sort_values(ascending=False)"
   ]
  },
  {
   "cell_type": "markdown",
   "id": "6efce218-a83f-40d6-aa88-c0e6aff46022",
   "metadata": {},
   "source": [
    "<h4>Distribuição de acidentes por idade</h4>"
   ]
  },
  {
   "cell_type": "markdown",
   "id": "ab89649a-d7f8-4e3e-b086-a5fb6ce8e29b",
   "metadata": {},
   "source": [
    "Agrupando a coluna idade em faixas de 5 anos:"
   ]
  },
  {
   "cell_type": "code",
   "execution_count": 20,
   "id": "75a9c53e-1e40-4aab-920d-7196ce2746a3",
   "metadata": {},
   "outputs": [],
   "source": [
    "limites = list(range(0, 101, 5))  # Faixas de 0 a 100 anos, com intervalos de 5 anos\n",
    "rotulos = [f'{i}-{i+4}' for i in range(0, 100, 5)]  # Rótulos no formato '0-4', '5-9', '10-14', ...\n",
    "df['idade_agrupada'] = pd.cut(df['idade'], bins=limites, labels=rotulos, right=False)"
   ]
  },
  {
   "cell_type": "code",
   "execution_count": 86,
   "id": "94d26404-4503-4b13-9ed8-cb11c6ea285f",
   "metadata": {},
   "outputs": [
    {
     "data": {
      "text/plain": [
       "idade_agrupada\n",
       "35-39    0.12\n",
       "25-29    0.12\n",
       "40-44    0.12\n",
       "30-34    0.11\n",
       "20-24    0.10\n",
       "Name: proportion, dtype: float64"
      ]
     },
     "execution_count": 86,
     "metadata": {},
     "output_type": "execute_result"
    }
   ],
   "source": [
    "df['idade_agrupada'].value_counts(normalize=True).round(2).head(5)"
   ]
  },
  {
   "cell_type": "code",
   "execution_count": 78,
   "id": "c2db9c35-61ec-471d-a397-49f52078094d",
   "metadata": {},
   "outputs": [
    {
     "data": {
      "text/plain": [
       "sexo\n",
       "Masculino        0.68\n",
       "Feminino         0.26\n",
       "Não Informado    0.06\n",
       "Ignorado         0.00\n",
       "Name: proportion, dtype: float64"
      ]
     },
     "execution_count": 78,
     "metadata": {},
     "output_type": "execute_result"
    }
   ],
   "source": [
    "df['sexo'].value_counts(normalize=True).round(2)"
   ]
  },
  {
   "cell_type": "markdown",
   "id": "801d81b2-2840-4636-ad08-ce6add6256ec",
   "metadata": {},
   "source": [
    "<h2>ACIDENTES COM MORTES FATAIS</h2>"
   ]
  },
  {
   "cell_type": "markdown",
   "id": "a7a8e475-cd77-430b-9e49-4dd3ba00f871",
   "metadata": {},
   "source": [
    "Nessa seção vamos lidar com duas categorias: acidentes com vítimas fatais e acidentes sem vítimas fatais."
   ]
  },
  {
   "cell_type": "markdown",
   "id": "25634090-adc2-41b6-acc9-8f375f37c5a7",
   "metadata": {},
   "source": [
    "A coluna classificacao_acidente classifica a gravidade do acidente: sem vítimas, com vítimas feridas e com vítimas fatais:"
   ]
  },
  {
   "cell_type": "code",
   "execution_count": 77,
   "id": "8eb533bb-8a67-40d5-8eaa-194eb2f1986d",
   "metadata": {},
   "outputs": [
    {
     "data": {
      "text/plain": [
       "classificacao_acidente\n",
       "Com Vítimas Feridas    63145\n",
       "Com Vítimas Fatais     13759\n",
       "Sem Vítimas             7850\n",
       "Name: count, dtype: int64"
      ]
     },
     "execution_count": 77,
     "metadata": {},
     "output_type": "execute_result"
    }
   ],
   "source": [
    "df['classificacao_acidente'].value_counts().round(2)"
   ]
  },
  {
   "cell_type": "markdown",
   "id": "e04ac096-b5ad-4917-a7c6-a91b50464497",
   "metadata": {},
   "source": [
    "Criando um dataframe apenas com dados fatais (13.759 linhas), e um outro dataframe com acidentes sem casos fatais (70.995 linhas):"
   ]
  },
  {
   "cell_type": "code",
   "execution_count": 23,
   "id": "0860a6e0-97b9-4749-9c2e-4b551ac5f088",
   "metadata": {},
   "outputs": [],
   "source": [
    "acidentes_fatais = df[df['classificacao_acidente']=='Com Vítimas Fatais']\n",
    "acidentes_sem_obito = df[df['classificacao_acidente']!='Com Vítimas Fatais']"
   ]
  },
  {
   "cell_type": "markdown",
   "id": "4149abf1-981a-4f18-a3ee-66ae6585ee32",
   "metadata": {},
   "source": [
    "<h4>Como foi a distribuição de acidentes por tipo de pista entre o grupo com acidentes fatais e o grupo sem acidentes fatais?</h4>"
   ]
  },
  {
   "cell_type": "code",
   "execution_count": 89,
   "id": "309c7db8-4fa1-423b-8816-765a5c5aace8",
   "metadata": {},
   "outputs": [
    {
     "data": {
      "text/plain": [
       "tipo_pista\n",
       "Simples     0.75\n",
       "Dupla       0.22\n",
       "Múltipla    0.03\n",
       "Name: proportion, dtype: float64"
      ]
     },
     "execution_count": 89,
     "metadata": {},
     "output_type": "execute_result"
    }
   ],
   "source": [
    "acidentes_fatais['tipo_pista'].value_counts(normalize=True).round(2)"
   ]
  },
  {
   "cell_type": "code",
   "execution_count": 90,
   "id": "43bc94a6-f0ab-4c80-a5b4-17a702e33a28",
   "metadata": {},
   "outputs": [
    {
     "data": {
      "text/plain": [
       "tipo_pista\n",
       "Simples     0.50\n",
       "Dupla       0.41\n",
       "Múltipla    0.09\n",
       "Name: proportion, dtype: float64"
      ]
     },
     "execution_count": 90,
     "metadata": {},
     "output_type": "execute_result"
    }
   ],
   "source": [
    "acidentes_sem_obito['tipo_pista'].value_counts(normalize=True).round(2)"
   ]
  },
  {
   "cell_type": "markdown",
   "id": "776407a0-14d0-4691-bafb-7d44fbec12b1",
   "metadata": {},
   "source": [
    "Proporcionalmente, ocorreram mais acidentes com óbitos em pista simples do que acidentes sem vítimas fatais"
   ]
  },
  {
   "cell_type": "markdown",
   "id": "f0783b07-ca1f-4789-baae-4069e039bb56",
   "metadata": {},
   "source": [
    "<h4>Quais as 3 principais causas de acidentes entre os grupos?</h4>"
   ]
  },
  {
   "cell_type": "code",
   "execution_count": 82,
   "id": "d3403955-d3cf-43d4-8778-cade84880e26",
   "metadata": {},
   "outputs": [
    {
     "data": {
      "text/plain": [
       "causa_acidente\n",
       "Reação tardia ou ineficiente do condutor    0.13\n",
       "Velocidade Incompatível                     0.12\n",
       "Ausência de reação do condutor              0.10\n",
       "Name: proportion, dtype: float64"
      ]
     },
     "execution_count": 82,
     "metadata": {},
     "output_type": "execute_result"
    }
   ],
   "source": [
    "acidentes_fatais['causa_acidente'].value_counts(normalize=True).round(2).head(3)"
   ]
  },
  {
   "cell_type": "code",
   "execution_count": 27,
   "id": "0dcd324e-72d6-4bcb-b82b-a59befce46b4",
   "metadata": {},
   "outputs": [
    {
     "data": {
      "text/plain": [
       "causa_acidente\n",
       "Reação tardia ou ineficiente do condutor    0.15\n",
       "Ausência de reação do condutor              0.11\n",
       "Velocidade Incompatível                     0.09\n",
       "Name: proportion, dtype: float64"
      ]
     },
     "execution_count": 27,
     "metadata": {},
     "output_type": "execute_result"
    }
   ],
   "source": [
    "acidentes_sem_obito['causa_acidente'].value_counts(normalize=True).round(2).head(3)"
   ]
  },
  {
   "cell_type": "code",
   "execution_count": 83,
   "id": "77630d2b-7a34-4e67-ac14-84752bbc929c",
   "metadata": {},
   "outputs": [
    {
     "data": {
      "text/plain": [
       "tipo_acidente\n",
       "Colisão frontal              0.18\n",
       "Saída de leito carroçável    0.15\n",
       "Tombamento                   0.14\n",
       "Name: proportion, dtype: float64"
      ]
     },
     "execution_count": 83,
     "metadata": {},
     "output_type": "execute_result"
    }
   ],
   "source": [
    "acidentes_fatais['tipo_acidente'].value_counts(normalize=True).round(2).head(3)"
   ]
  },
  {
   "cell_type": "code",
   "execution_count": 84,
   "id": "72d2c9d3-0491-485c-a88b-fcf896a05df4",
   "metadata": {},
   "outputs": [
    {
     "data": {
      "text/plain": [
       "tipo_acidente\n",
       "Colisão traseira             0.15\n",
       "Saída de leito carroçável    0.14\n",
       "Tombamento                   0.14\n",
       "Name: proportion, dtype: float64"
      ]
     },
     "execution_count": 84,
     "metadata": {},
     "output_type": "execute_result"
    }
   ],
   "source": [
    "acidentes_sem_obito['tipo_acidente'].value_counts(normalize=True).round(2).head(3)"
   ]
  },
  {
   "cell_type": "code",
   "execution_count": 85,
   "id": "c3f2ac13-a5b8-41eb-a0a4-8ed43eebdf96",
   "metadata": {},
   "outputs": [
    {
     "data": {
      "text/plain": [
       "sexo\n",
       "Masculino        0.65\n",
       "Feminino         0.28\n",
       "Não Informado    0.07\n",
       "Ignorado         0.00\n",
       "Name: proportion, dtype: float64"
      ]
     },
     "execution_count": 85,
     "metadata": {},
     "output_type": "execute_result"
    }
   ],
   "source": [
    "acidentes_fatais['sexo'].value_counts(normalize=True).round(2)"
   ]
  },
  {
   "cell_type": "code",
   "execution_count": 32,
   "id": "e60c2281-3299-46ce-9dfd-3c77aa914964",
   "metadata": {},
   "outputs": [
    {
     "data": {
      "text/plain": [
       "sexo\n",
       "Masculino        0.68\n",
       "Feminino         0.26\n",
       "Não Informado    0.06\n",
       "Ignorado         0.00\n",
       "Name: proportion, dtype: float64"
      ]
     },
     "execution_count": 32,
     "metadata": {},
     "output_type": "execute_result"
    }
   ],
   "source": [
    "acidentes_sem_obito['sexo'].value_counts(normalize=True).round(2)"
   ]
  },
  {
   "cell_type": "markdown",
   "id": "44913e9b-0017-4c42-8d67-7939bbbcc428",
   "metadata": {},
   "source": [
    "Dentre as 2 categorias, as mulheres representam maior frequência em acidentes com óbito do que em acidentes sem óbito"
   ]
  },
  {
   "cell_type": "code",
   "execution_count": 68,
   "id": "fe0f8bdf-f8a9-42bb-84dd-6ffb9847b89f",
   "metadata": {},
   "outputs": [
    {
     "data": {
      "text/plain": [
       "sexo       sexo       idade_agrupada\n",
       "Feminino   Feminino   20-24             0.12\n",
       "Masculino  Masculino  40-44             0.13\n",
       "Name: proportion, dtype: float64"
      ]
     },
     "execution_count": 68,
     "metadata": {},
     "output_type": "execute_result"
    }
   ],
   "source": [
    "acidentes_fatais[acidentes_fatais['sexo'].isin(['Masculino','Feminino'])].groupby('sexo')['idade_agrupada'].value_counts(normalize=True).round(2).groupby(level=0).nlargest(1)"
   ]
  },
  {
   "cell_type": "markdown",
   "id": "b24aa690-2e00-47fc-a732-11d088d81cef",
   "metadata": {},
   "source": [
    "<h4>Condição climática por categoria</h4>"
   ]
  },
  {
   "cell_type": "code",
   "execution_count": 71,
   "id": "9c51b7e6-9691-4e7f-981d-26695ea3364c",
   "metadata": {},
   "outputs": [
    {
     "data": {
      "text/plain": [
       "condicao_metereologica\n",
       "Céu Claro           0.52\n",
       "Chuva               0.23\n",
       "Nublado             0.15\n",
       "Sol                 0.05\n",
       "Garoa/Chuvisco      0.03\n",
       "Ignorado            0.01\n",
       "Nevoeiro/Neblina    0.00\n",
       "Vento               0.00\n",
       "Name: proportion, dtype: float64"
      ]
     },
     "execution_count": 71,
     "metadata": {},
     "output_type": "execute_result"
    }
   ],
   "source": [
    "acidentes_fatais['condicao_metereologica'].value_counts(normalize=True).round(2)"
   ]
  },
  {
   "cell_type": "code",
   "execution_count": 72,
   "id": "805c834a-2e53-415e-85b3-1bc32bfedd4c",
   "metadata": {},
   "outputs": [
    {
     "data": {
      "text/plain": [
       "condicao_metereologica\n",
       "Céu Claro           0.50\n",
       "Nublado             0.20\n",
       "Chuva               0.17\n",
       "Garoa/Chuvisco      0.06\n",
       "Sol                 0.05\n",
       "Ignorado            0.01\n",
       "Nevoeiro/Neblina    0.01\n",
       "Vento               0.00\n",
       "Name: proportion, dtype: float64"
      ]
     },
     "execution_count": 72,
     "metadata": {},
     "output_type": "execute_result"
    }
   ],
   "source": [
    "acidentes_sem_obito['condicao_metereologica'].value_counts(normalize=True).round(2)"
   ]
  },
  {
   "cell_type": "markdown",
   "id": "e218f5aa-247d-4f84-b4d1-703573ba2027",
   "metadata": {},
   "source": [
    "<h4>Dentre os acidentes por tipo de veículo, como é a gravidade dos acidentes?</h4>"
   ]
  },
  {
   "cell_type": "code",
   "execution_count": 67,
   "id": "07dfe96f-c7e1-4ce1-b78f-dd9e12ef2641",
   "metadata": {},
   "outputs": [
    {
     "data": {
      "image/png": "[encoded data removed]",
      "text/plain": [
       "<Figure size 640x480 with 1 Axes>"
      ]
     },
     "metadata": {},
     "output_type": "display_data"
    }
   ],
   "source": [
    "tipo_veiculo_gravidade = df[df['tipo_veiculo'].isin(['Automóvel','Motocicleta','Caminhonete','Caminhão-trator'])].groupby('tipo_veiculo')['classificacao_acidente'].value_counts(normalize=True).round(2)\n",
    "\n",
    "ax = tipo_veiculo_gravidade.unstack().plot(kind='bar', stacked=True)\n",
    "\n",
    "# Adicionando etiquetas com os valores de cada região nas barras\n",
    "for p in ax.patches:\n",
    "    width = p.get_width()\n",
    "    height = p.get_height()\n",
    "    x, y = p.get_xy()\n",
    "    ax.annotate(f'{height*100:.0f}%', (x + width/2, y + height/2), ha='center', va='center')\n",
    "\n",
    "\n",
    "# Adicionando rótulos aos eixos e título\n",
    "plt.xlabel('')\n",
    "plt.ylabel('%')\n",
    "plt.title('Tipo de Veículo x Gravidade')\n",
    "plt.legend(loc='upper right', bbox_to_anchor=(1.0, 0.8))\n",
    "# Mostrando o gráfico\n",
    "plt.show()"
   ]
  },
  {
   "cell_type": "markdown",
   "id": "bd227fae-9012-4950-be56-c303ca301303",
   "metadata": {},
   "source": [
    "Principais veículos por gravidade:\n",
    "- vítimas fatais: caminhão-trator\n",
    "- vítimas feridas: motocicleta\n",
    "- sem vítimas: caminhonete"
   ]
  },
  {
   "cell_type": "markdown",
   "id": "0a025a6c-60ce-42ce-a272-cda3cd449740",
   "metadata": {},
   "source": [
    "<h2>CONCLUSÃO</h2>"
   ]
  },
  {
   "cell_type": "markdown",
   "id": "8c69789d-429e-4cb1-8d2d-deea7e90ab23",
   "metadata": {},
   "source": [
    "Alguns pontos divergem do senso comum. Por exemplo, motocicleta não é o veículo com maior índice de acidentes com vítimas fatais e acidentes fatais acontecem mais em dias com céu aberto/sol do que acidentes não fatais."
   ]
  }
 ],
 "metadata": {
  "kernelspec": {
   "display_name": "Python 3 (ipykernel)",
   "language": "python",
   "name": "python3"
  },
  "language_info": {
   "codemirror_mode": {
    "name": "ipython",
    "version": 3
   },
   "file_extension": ".py",
   "mimetype": "text/x-python",
   "name": "python",
   "nbconvert_exporter": "python",
   "pygments_lexer": "ipython3",
   "version": "3.12.3"
  }
 },
 "nbformat": 4,
 "nbformat_minor": 5
}
