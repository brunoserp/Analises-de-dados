{
 "cells": [
  {
   "cell_type": "markdown",
   "id": "096f2256-d4f0-4564-b193-e88caf0b909b",
   "metadata": {},
   "source": [
    "<h2>Dados de voos com origem ou destino no Brasil de março/24</h2>"
   ]
  },
  {
   "cell_type": "markdown",
   "id": "9bdbc1cd-243b-4168-9e03-8d171e3472a8",
   "metadata": {},
   "source": [
    "Dados da ANAC"
   ]
  },
  {
   "cell_type": "code",
   "execution_count": 116,
   "id": "386932fe-9daa-4f0e-a2d0-56f416d630b2",
   "metadata": {},
   "outputs": [],
   "source": [
    "import os\n",
    "import pandas as pd\n",
    "import numpy as np\n",
    "import datetime\n",
    "\n",
    "pasta = r\"C:\\Users\\bserpellone\\Desktop\\Python\\Dataset\\anac\"\n",
    "\n",
    "registros = \"VRA_2024_03.csv\"\n",
    "dAeroportos = \"glossario_de_aerodromo.xls\"\n",
    "dViacoes = \"glossario_de_empresas_aereas.xls\"\n",
    "\n",
    "df = pd.read_csv(os.path.join(pasta,registros),delimiter=';')\n",
    "df_aeros = pd.read_excel(os.path.join(pasta,dAeroportos),header=3)\n",
    "df_aeros.dropna(axis=1,how='all',inplace=True)\n",
    "\n",
    "df_viacoes = pd.read_excel(os.path.join(pasta,dViacoes),header=3)\n",
    "df_viacoes.dropna(axis=1,how='all',inplace=True)\n",
    "\n",
    "df_merged = df.merge(df_viacoes,how='left',left_on='Sigla ICAO Empresa Aérea',right_on='Sigla OACI')\n",
    "df_merged = df_merged.merge(df_aeros,left_on='Sigla ICAO Aeroporto Origem',right_on='Sigla OACI',how='left',suffixes=('_ori','_dest'))\n",
    "df_merged = df_merged.merge(df_aeros,left_on='Sigla ICAO Aeroporto Destino',right_on='Sigla OACI',how='left',suffixes=('_Origem','_Destino'))"
   ]
  },
  {
   "cell_type": "markdown",
   "id": "abc39a88-2c24-4a9e-944f-c781966abbf5",
   "metadata": {},
   "source": [
    "<h4>Quantas linhas/registros de voos tem na base?</h4>"
   ]
  },
  {
   "cell_type": "code",
   "execution_count": 35,
   "id": "5fe5b6e4-3501-4060-9447-dec3ca531835",
   "metadata": {},
   "outputs": [
    {
     "data": {
      "text/plain": [
       "81560"
      ]
     },
     "execution_count": 35,
     "metadata": {},
     "output_type": "execute_result"
    }
   ],
   "source": [
    "df_selecao = df_merged[['Chegada Real','Situação Voo','Nome Empresas','Nacional ou Estrangeira','Partida Prevista','Partida Real','Cidade_Origem','UF_Origem', 'País_Origem','Continente_Origem','Cidade_Destino', 'UF_Destino', 'País_Destino','Continente_Destino']]\n",
    "df_selecao.shape[0]"
   ]
  },
  {
   "cell_type": "markdown",
   "id": "cff0f5ea-9b84-441b-92f2-1d8dc24970d7",
   "metadata": {},
   "source": [
    "Primeiras linhas da tabela:"
   ]
  },
  {
   "cell_type": "code",
   "execution_count": 95,
   "id": "47557db7-7828-45c7-bf7b-260766531975",
   "metadata": {},
   "outputs": [
    {
     "data": {
      "text/html": [
       "<div>\n",
       "<style scoped>\n",
       "    .dataframe tbody tr th:only-of-type {\n",
       "        vertical-align: middle;\n",
       "    }\n",
       "\n",
       "    .dataframe tbody tr th {\n",
       "        vertical-align: top;\n",
       "    }\n",
       "\n",
       "    .dataframe thead th {\n",
       "        text-align: right;\n",
       "    }\n",
       "</style>\n",
       "<table border=\"1\" class=\"dataframe\">\n",
       "  <thead>\n",
       "    <tr style=\"text-align: right;\">\n",
       "      <th></th>\n",
       "      <th>Chegada Real</th>\n",
       "      <th>Situação Voo</th>\n",
       "      <th>Nome Empresas</th>\n",
       "      <th>Nacional ou Estrangeira</th>\n",
       "      <th>Partida Prevista</th>\n",
       "      <th>Partida Real</th>\n",
       "      <th>Cidade_Origem</th>\n",
       "      <th>UF_Origem</th>\n",
       "      <th>País_Origem</th>\n",
       "      <th>Continente_Origem</th>\n",
       "      <th>Cidade_Destino</th>\n",
       "      <th>UF_Destino</th>\n",
       "      <th>País_Destino</th>\n",
       "      <th>Continente_Destino</th>\n",
       "      <th>Diferença_segundos</th>\n",
       "      <th>Status_voo</th>\n",
       "    </tr>\n",
       "  </thead>\n",
       "  <tbody>\n",
       "    <tr>\n",
       "      <th>0</th>\n",
       "      <td>02/03/2024 08:18</td>\n",
       "      <td>REALIZADO</td>\n",
       "      <td>AMERICAN AIRLINES INC</td>\n",
       "      <td>ESTRANGEIRA</td>\n",
       "      <td>2024-01-03 23:55:00</td>\n",
       "      <td>2024-01-03 23:48:00</td>\n",
       "      <td>RIO DE JANEIRO</td>\n",
       "      <td>RJ</td>\n",
       "      <td>BRASIL</td>\n",
       "      <td>AMERICA DO SUL</td>\n",
       "      <td>MIAMI</td>\n",
       "      <td>NaN</td>\n",
       "      <td>ESTADOS UNIDOS DA AMERICA</td>\n",
       "      <td>AMERICA DO NORTE</td>\n",
       "      <td>-420.0</td>\n",
       "      <td>De 5 a 20min adiantado</td>\n",
       "    </tr>\n",
       "    <tr>\n",
       "      <th>1</th>\n",
       "      <td>01/03/2024 11:42</td>\n",
       "      <td>REALIZADO</td>\n",
       "      <td>AMERICAN AIRLINES INC</td>\n",
       "      <td>ESTRANGEIRA</td>\n",
       "      <td>2024-01-03 23:55:00</td>\n",
       "      <td>2024-01-03 03:38:00</td>\n",
       "      <td>MIAMI</td>\n",
       "      <td>NaN</td>\n",
       "      <td>ESTADOS UNIDOS DA AMERICA</td>\n",
       "      <td>AMERICA DO NORTE</td>\n",
       "      <td>RIO DE JANEIRO</td>\n",
       "      <td>RJ</td>\n",
       "      <td>BRASIL</td>\n",
       "      <td>AMERICA DO SUL</td>\n",
       "      <td>-73020.0</td>\n",
       "      <td>20min+ adiantado</td>\n",
       "    </tr>\n",
       "    <tr>\n",
       "      <th>2</th>\n",
       "      <td>01/03/2024 08:11</td>\n",
       "      <td>REALIZADO</td>\n",
       "      <td>AMERICAN AIRLINES INC</td>\n",
       "      <td>ESTRANGEIRA</td>\n",
       "      <td>2024-01-03 00:55:00</td>\n",
       "      <td>2024-01-03 00:09:00</td>\n",
       "      <td>GUARULHOS</td>\n",
       "      <td>SP</td>\n",
       "      <td>BRASIL</td>\n",
       "      <td>AMERICA DO SUL</td>\n",
       "      <td>MIAMI</td>\n",
       "      <td>NaN</td>\n",
       "      <td>ESTADOS UNIDOS DA AMERICA</td>\n",
       "      <td>AMERICA DO NORTE</td>\n",
       "      <td>-2760.0</td>\n",
       "      <td>20min+ adiantado</td>\n",
       "    </tr>\n",
       "    <tr>\n",
       "      <th>3</th>\n",
       "      <td>02/03/2024 06:03</td>\n",
       "      <td>REALIZADO</td>\n",
       "      <td>AMERICAN AIRLINES INC</td>\n",
       "      <td>ESTRANGEIRA</td>\n",
       "      <td>2024-01-03 20:50:00</td>\n",
       "      <td>2024-01-03 21:58:00</td>\n",
       "      <td>MIAMI</td>\n",
       "      <td>NaN</td>\n",
       "      <td>ESTADOS UNIDOS DA AMERICA</td>\n",
       "      <td>AMERICA DO NORTE</td>\n",
       "      <td>GUARULHOS</td>\n",
       "      <td>SP</td>\n",
       "      <td>BRASIL</td>\n",
       "      <td>AMERICA DO SUL</td>\n",
       "      <td>4080.0</td>\n",
       "      <td>20min+ atrasado</td>\n",
       "    </tr>\n",
       "    <tr>\n",
       "      <th>4</th>\n",
       "      <td>02/03/2024 09:06</td>\n",
       "      <td>REALIZADO</td>\n",
       "      <td>AMERICAN AIRLINES INC</td>\n",
       "      <td>ESTRANGEIRA</td>\n",
       "      <td>2024-01-03 22:30:00</td>\n",
       "      <td>2024-01-03 22:34:00</td>\n",
       "      <td>GUARULHOS</td>\n",
       "      <td>SP</td>\n",
       "      <td>BRASIL</td>\n",
       "      <td>AMERICA DO SUL</td>\n",
       "      <td>MIAMI</td>\n",
       "      <td>NaN</td>\n",
       "      <td>ESTADOS UNIDOS DA AMERICA</td>\n",
       "      <td>AMERICA DO NORTE</td>\n",
       "      <td>240.0</td>\n",
       "      <td>Pontual</td>\n",
       "    </tr>\n",
       "  </tbody>\n",
       "</table>\n",
       "</div>"
      ],
      "text/plain": [
       "       Chegada Real Situação Voo          Nome Empresas  \\\n",
       "0  02/03/2024 08:18    REALIZADO  AMERICAN AIRLINES INC   \n",
       "1  01/03/2024 11:42    REALIZADO  AMERICAN AIRLINES INC   \n",
       "2  01/03/2024 08:11    REALIZADO  AMERICAN AIRLINES INC   \n",
       "3  02/03/2024 06:03    REALIZADO  AMERICAN AIRLINES INC   \n",
       "4  02/03/2024 09:06    REALIZADO  AMERICAN AIRLINES INC   \n",
       "\n",
       "  Nacional ou Estrangeira    Partida Prevista        Partida Real  \\\n",
       "0             ESTRANGEIRA 2024-01-03 23:55:00 2024-01-03 23:48:00   \n",
       "1             ESTRANGEIRA 2024-01-03 23:55:00 2024-01-03 03:38:00   \n",
       "2             ESTRANGEIRA 2024-01-03 00:55:00 2024-01-03 00:09:00   \n",
       "3             ESTRANGEIRA 2024-01-03 20:50:00 2024-01-03 21:58:00   \n",
       "4             ESTRANGEIRA 2024-01-03 22:30:00 2024-01-03 22:34:00   \n",
       "\n",
       "    Cidade_Origem UF_Origem                País_Origem Continente_Origem  \\\n",
       "0  RIO DE JANEIRO        RJ                     BRASIL    AMERICA DO SUL   \n",
       "1           MIAMI       NaN  ESTADOS UNIDOS DA AMERICA  AMERICA DO NORTE   \n",
       "2       GUARULHOS        SP                     BRASIL    AMERICA DO SUL   \n",
       "3           MIAMI       NaN  ESTADOS UNIDOS DA AMERICA  AMERICA DO NORTE   \n",
       "4       GUARULHOS        SP                     BRASIL    AMERICA DO SUL   \n",
       "\n",
       "   Cidade_Destino UF_Destino               País_Destino Continente_Destino  \\\n",
       "0           MIAMI        NaN  ESTADOS UNIDOS DA AMERICA   AMERICA DO NORTE   \n",
       "1  RIO DE JANEIRO         RJ                     BRASIL     AMERICA DO SUL   \n",
       "2           MIAMI        NaN  ESTADOS UNIDOS DA AMERICA   AMERICA DO NORTE   \n",
       "3       GUARULHOS         SP                     BRASIL     AMERICA DO SUL   \n",
       "4           MIAMI        NaN  ESTADOS UNIDOS DA AMERICA   AMERICA DO NORTE   \n",
       "\n",
       "   Diferença_segundos              Status_voo  \n",
       "0              -420.0  De 5 a 20min adiantado  \n",
       "1            -73020.0        20min+ adiantado  \n",
       "2             -2760.0        20min+ adiantado  \n",
       "3              4080.0         20min+ atrasado  \n",
       "4               240.0                 Pontual  "
      ]
     },
     "execution_count": 95,
     "metadata": {},
     "output_type": "execute_result"
    }
   ],
   "source": [
    "df_selecao.head(5)"
   ]
  },
  {
   "cell_type": "markdown",
   "id": "be303c6f-1b91-4fec-9a25-19fa42eb9b1a",
   "metadata": {},
   "source": [
    "<h4>Qual a proporção de voos domésticos e estrangeiros?</h4>"
   ]
  },
  {
   "cell_type": "code",
   "execution_count": 36,
   "id": "ccec4b34-3d81-4943-bd80-06ce086f85e7",
   "metadata": {},
   "outputs": [
    {
     "data": {
      "text/plain": [
       "Nacional ou Estrangeira\n",
       "BRASILEIRA       0.88\n",
       "ESTRANGEIRA      0.12\n",
       "NÃO INFORMADO    0.00\n",
       "Name: proportion, dtype: float64"
      ]
     },
     "execution_count": 36,
     "metadata": {},
     "output_type": "execute_result"
    }
   ],
   "source": [
    "df_selecao['Nacional ou Estrangeira'].value_counts(normalize=True).round(2)"
   ]
  },
  {
   "cell_type": "code",
   "execution_count": 97,
   "id": "f4ac8243-e2e8-4248-8b5b-35c04d80466a",
   "metadata": {},
   "outputs": [
    {
     "data": {
      "text/plain": [
       "Cidade_Origem\n",
       "GUARULHOS         0.13\n",
       "SÃO PAULO         0.12\n",
       "RIO DE JANEIRO    0.07\n",
       "CAMPINAS          0.07\n",
       "BRASÍLIA          0.07\n",
       "Name: proportion, dtype: float64"
      ]
     },
     "execution_count": 97,
     "metadata": {},
     "output_type": "execute_result"
    }
   ],
   "source": [
    "df_selecao['Cidade_Origem'][df_selecao['Nacional ou Estrangeira']=='BRASILEIRA'].value_counts(normalize=True).round(2).head(5)"
   ]
  },
  {
   "cell_type": "markdown",
   "id": "f02e7ac9-4355-4436-b6dd-28f902b4558f",
   "metadata": {},
   "source": [
    "<h4>Quais as principais cidades origem dos voos?</h4>"
   ]
  },
  {
   "cell_type": "code",
   "execution_count": 37,
   "id": "0d6ab85a-77a5-4d7f-a443-f89939e5b07c",
   "metadata": {},
   "outputs": [
    {
     "data": {
      "text/plain": [
       "Cidade_Origem\n",
       "GUARULHOS               0.14\n",
       "SÃO PAULO               0.10\n",
       "RIO DE JANEIRO          0.08\n",
       "CAMPINAS                0.06\n",
       "BRASÍLIA                0.06\n",
       "CONFINS                 0.05\n",
       "RECIFE                  0.04\n",
       "PORTO ALEGRE            0.03\n",
       "SÃO JOSÉ DOS PINHAIS    0.03\n",
       "SALVADOR                0.03\n",
       "Name: proportion, dtype: float64"
      ]
     },
     "execution_count": 37,
     "metadata": {},
     "output_type": "execute_result"
    }
   ],
   "source": [
    "df_selecao['Cidade_Origem'].value_counts(normalize=True).round(2).head(10)"
   ]
  },
  {
   "cell_type": "markdown",
   "id": "1e406d17-5f2e-4120-acf9-978747037556",
   "metadata": {},
   "source": [
    "<h4>Quais as principais cidades destino dos voos?</h4>"
   ]
  },
  {
   "cell_type": "code",
   "execution_count": 38,
   "id": "8bc7663b-8625-4e98-9a23-8b33652edac0",
   "metadata": {},
   "outputs": [
    {
     "data": {
      "text/plain": [
       "Cidade_Destino\n",
       "GUARULHOS               0.14\n",
       "SÃO PAULO               0.10\n",
       "RIO DE JANEIRO          0.08\n",
       "CAMPINAS                0.07\n",
       "BRASÍLIA                0.06\n",
       "CONFINS                 0.05\n",
       "RECIFE                  0.04\n",
       "PORTO ALEGRE            0.03\n",
       "SÃO JOSÉ DOS PINHAIS    0.03\n",
       "SALVADOR                0.03\n",
       "Name: proportion, dtype: float64"
      ]
     },
     "execution_count": 38,
     "metadata": {},
     "output_type": "execute_result"
    }
   ],
   "source": [
    "df_selecao['Cidade_Destino'].value_counts(normalize=True).round(2).head(10)"
   ]
  },
  {
   "cell_type": "markdown",
   "id": "fe6eed46-0353-47cb-abb9-39606084a78d",
   "metadata": {},
   "source": [
    "<h4>Quais foram as 5 horas mais frequentes de voos pousando no Brasil (seja doméstico ou vindo do exterior)?</h4>"
   ]
  },
  {
   "cell_type": "code",
   "execution_count": 100,
   "id": "5ab8a84e-505b-475b-9ca1-e4a585776c66",
   "metadata": {},
   "outputs": [
    {
     "data": {
      "text/plain": [
       "Chegada Real\n",
       "16    0.064\n",
       "11    0.063\n",
       "19    0.059\n",
       "10    0.058\n",
       "07    0.056\n",
       "Name: proportion, dtype: float64"
      ]
     },
     "execution_count": 100,
     "metadata": {},
     "output_type": "execute_result"
    }
   ],
   "source": [
    "df_selecao['Chegada Real'].str[11:13][df_selecao['UF_Destino'].notna()].value_counts(normalize=True).round(3).head(5)"
   ]
  },
  {
   "cell_type": "markdown",
   "id": "3d2f73d0-7cf0-4488-85df-68410c2aa9e1",
   "metadata": {},
   "source": [
    "Quais foram as 5 horas mais frequentes de voos decolando no Brasil (seja doméstico ou indo para o exterior)?"
   ]
  },
  {
   "cell_type": "code",
   "execution_count": 101,
   "id": "9bd2c9b1-c6e0-47da-8317-4914cae8799e",
   "metadata": {},
   "outputs": [
    {
     "data": {
      "text/plain": [
       "Chegada Real\n",
       "11    0.065\n",
       "16    0.060\n",
       "10    0.059\n",
       "13    0.058\n",
       "07    0.057\n",
       "Name: proportion, dtype: float64"
      ]
     },
     "execution_count": 101,
     "metadata": {},
     "output_type": "execute_result"
    }
   ],
   "source": [
    "df_selecao['Chegada Real'].str[11:13][df_selecao['UF_Origem'].notna()].value_counts(normalize=True).round(3).head(5)"
   ]
  },
  {
   "cell_type": "markdown",
   "id": "802f93cd-5c95-453c-aab2-f38b7b197feb",
   "metadata": {},
   "source": [
    "<h4>Qual é a proporção de destinos por continente em voos internacionais que saíram do Brasil?</h4>"
   ]
  },
  {
   "cell_type": "code",
   "execution_count": 40,
   "id": "3165a290-5c07-4899-8366-f766202596d1",
   "metadata": {},
   "outputs": [
    {
     "data": {
      "text/plain": [
       "Continente_Destino\n",
       "AMERICA DO SUL      0.69\n",
       "EUROPA              0.14\n",
       "AMERICA DO NORTE    0.09\n",
       "AMERICA CENTRAL     0.05\n",
       "ASIA                0.02\n",
       "AFRICA              0.02\n",
       "Name: proportion, dtype: float64"
      ]
     },
     "execution_count": 40,
     "metadata": {},
     "output_type": "execute_result"
    }
   ],
   "source": [
    "df_selecao['Continente_Destino'][df_selecao['Nacional ou Estrangeira']=='ESTRANGEIRA'].value_counts(normalize=True).round(2)"
   ]
  },
  {
   "cell_type": "markdown",
   "id": "f59f821a-1ece-495e-bf74-201ee2250d0b",
   "metadata": {},
   "source": [
    "<h4> Quais os principais destinos internacionais (países)?</h4>"
   ]
  },
  {
   "cell_type": "code",
   "execution_count": 41,
   "id": "4aee4a5b-bcf5-46f6-a8a7-b9f36e0048fb",
   "metadata": {},
   "outputs": [
    {
     "data": {
      "text/plain": [
       "País_Destino\n",
       "ARGENTINA                    0.21\n",
       "ESTADOS UNIDOS DA AMERICA    0.14\n",
       "CHILE                        0.14\n",
       "PORTUGAL                     0.06\n",
       "COLOMBIA                     0.05\n",
       "Name: proportion, dtype: float64"
      ]
     },
     "execution_count": 41,
     "metadata": {},
     "output_type": "execute_result"
    }
   ],
   "source": [
    "df_selecao['País_Destino'][df_selecao['País_Destino']!='BRASIL'].value_counts(normalize=True).round(2).head(5)"
   ]
  },
  {
   "cell_type": "markdown",
   "id": "bbd6d28b-68e8-4fab-8029-1fb915e0c4dc",
   "metadata": {},
   "source": [
    "<h4>Quais os principais destinos internacionais (cidades)?</h4>"
   ]
  },
  {
   "cell_type": "code",
   "execution_count": 42,
   "id": "e14c2c61-bdfc-4216-a8fc-e3ad5e10c8da",
   "metadata": {},
   "outputs": [
    {
     "data": {
      "text/plain": [
       "Cidade_Destino\n",
       "BUENOS AIRES         0.19\n",
       "SANTIAGO DO CHILE    0.14\n",
       "MIAMI                0.06\n",
       "LISBOA               0.06\n",
       "PANAMA               0.05\n",
       "BOGOTA               0.05\n",
       "MONTEVIDEU           0.04\n",
       "LIMA                 0.03\n",
       "MADRID               0.03\n",
       "TABABELA             0.02\n",
       "Name: proportion, dtype: float64"
      ]
     },
     "execution_count": 42,
     "metadata": {},
     "output_type": "execute_result"
    }
   ],
   "source": [
    "df_selecao.loc[:,'Cidade_Destino'] = df_selecao['Cidade_Destino'].replace(\"BUENOS AIRES/AEROPARQUE\",\"BUENOS AIRES\")\n",
    "df_selecao['Cidade_Destino'][df_selecao['País_Destino']!='BRASIL'].value_counts(normalize=True).round(2).head(10)"
   ]
  },
  {
   "cell_type": "markdown",
   "id": "c4194719-4404-4c2f-851c-d0fafec660cb",
   "metadata": {},
   "source": [
    "<h4>Como é a proporção de viagens por aviação?</h4>"
   ]
  },
  {
   "cell_type": "code",
   "execution_count": 43,
   "id": "4b811dd1-e5d0-494f-a42c-be89a3ed15e6",
   "metadata": {},
   "outputs": [
    {
     "data": {
      "text/plain": [
       "Nome Empresas\n",
       "AZUL                     0.34\n",
       "TAM                      0.29\n",
       "GOL                      0.22\n",
       "PASSAREDO                0.02\n",
       "AEROLINEAS ARGENTINAS    0.01\n",
       "Name: proportion, dtype: float64"
      ]
     },
     "execution_count": 43,
     "metadata": {},
     "output_type": "execute_result"
    }
   ],
   "source": [
    "df_selecao['Nome Empresas'].value_counts(normalize=True).round(2).head(5)"
   ]
  },
  {
   "cell_type": "markdown",
   "id": "1f7dde12-e22b-4e36-aa3a-c098c538be89",
   "metadata": {},
   "source": [
    "<h4>Como é a proporção de viagens por aviação estrangeira?</h4>"
   ]
  },
  {
   "cell_type": "code",
   "execution_count": 44,
   "id": "0b5d3db0-13ca-4a55-8e2e-58c7653c2cf4",
   "metadata": {},
   "outputs": [
    {
     "data": {
      "text/plain": [
       "Nome Empresas\n",
       "AEROLINEAS ARGENTINAS                  0.13\n",
       "LAN CHILE                              0.09\n",
       "TAP AIR PORTUGAL                       0.09\n",
       "COPA -COMPANIA PANAMENA DE AVIACION    0.07\n",
       "QATAR AIRWAYS                          0.06\n",
       "Name: proportion, dtype: float64"
      ]
     },
     "execution_count": 44,
     "metadata": {},
     "output_type": "execute_result"
    }
   ],
   "source": [
    "df_selecao['Nome Empresas'][df_selecao['Nacional ou Estrangeira']==\"ESTRANGEIRA\"].value_counts(normalize=True).round(2).head(5)"
   ]
  },
  {
   "cell_type": "markdown",
   "id": "2ba74278-99eb-4b85-9a9f-b5e61fc8cf01",
   "metadata": {},
   "source": [
    "<h4> Houve outras aviações fora Azul, Tam, Gol e Passaredo em voos nacionais?</h4>"
   ]
  },
  {
   "cell_type": "code",
   "execution_count": 45,
   "id": "b904bdf3-555a-4760-8021-4123dace80bd",
   "metadata": {},
   "outputs": [
    {
     "data": {
      "text/plain": [
       "Nome Empresas\n",
       "AZUL                 0.38\n",
       "TAM                  0.32\n",
       "GOL                  0.25\n",
       "PASSAREDO            0.02\n",
       "MAP LINHAS AEREAS    0.01\n",
       "ABSA                 0.01\n",
       "TOTAL                0.00\n",
       "ABAETE               0.00\n",
       "Name: proportion, dtype: float64"
      ]
     },
     "execution_count": 45,
     "metadata": {},
     "output_type": "execute_result"
    }
   ],
   "source": [
    "df_selecao['Nome Empresas'][df_selecao['Nacional ou Estrangeira']==\"BRASILEIRA\"].value_counts(normalize=True).round(2)"
   ]
  },
  {
   "cell_type": "markdown",
   "id": "f804c4b3-328e-493a-8405-7ba3d388f04c",
   "metadata": {},
   "source": [
    "<h4>Como foi o status dos voos em relação a voos nacionais e internacionais?</h4>"
   ]
  },
  {
   "cell_type": "code",
   "execution_count": 46,
   "id": "c0415935-6e4f-494d-bdcb-05b3739ffa60",
   "metadata": {},
   "outputs": [
    {
     "data": {
      "text/plain": [
       "Nacional ou Estrangeira  Situação Voo \n",
       "BRASILEIRA               REALIZADO        0.97\n",
       "                         CANCELADO        0.03\n",
       "ESTRANGEIRA              REALIZADO        0.83\n",
       "                         CANCELADO        0.17\n",
       "                         NÃO INFORMADO    0.00\n",
       "NÃO INFORMADO            REALIZADO        0.75\n",
       "                         CANCELADO        0.25\n",
       "Name: proportion, dtype: float64"
      ]
     },
     "execution_count": 46,
     "metadata": {},
     "output_type": "execute_result"
    }
   ],
   "source": [
    "df_selecao.groupby('Nacional ou Estrangeira')['Situação Voo'].value_counts(normalize=True).round(2)"
   ]
  },
  {
   "cell_type": "code",
   "execution_count": 127,
   "id": "74660da5-bef8-4628-8feb-070a2541b66b",
   "metadata": {},
   "outputs": [
    {
     "data": {
      "text/plain": [
       "Situação Voo\n",
       "REALIZADO        7396\n",
       "CANCELADO        1462\n",
       "NÃO INFORMADO       2\n",
       "Name: count, dtype: int64"
      ]
     },
     "execution_count": 127,
     "metadata": {},
     "output_type": "execute_result"
    }
   ],
   "source": [
    "df['Situação Voo'][df_selecao['Nacional ou Estrangeira']=='ESTRANGEIRA'].value_counts()"
   ]
  },
  {
   "cell_type": "markdown",
   "id": "e12f36e2-4c85-4749-a0c7-6ec67be6be9a",
   "metadata": {},
   "source": [
    "<h4>Qual a proporção de voos atrasados?</h4>"
   ]
  },
  {
   "cell_type": "markdown",
   "id": "c4afb350-4a1f-4b85-9fdf-dcbe91879f5b",
   "metadata": {},
   "source": [
    "Valores da coluna situação voo:"
   ]
  },
  {
   "cell_type": "code",
   "execution_count": 66,
   "id": "724c25fa-51c3-4fb4-bf93-62901aa904a6",
   "metadata": {},
   "outputs": [
    {
     "data": {
      "text/plain": [
       "0            REALIZADO\n",
       "10           CANCELADO\n",
       "30918    NÃO INFORMADO\n",
       "Name: Situação Voo, dtype: object"
      ]
     },
     "execution_count": 66,
     "metadata": {},
     "output_type": "execute_result"
    }
   ],
   "source": [
    "df_selecao['Situação Voo'].drop_duplicates()"
   ]
  },
  {
   "cell_type": "code",
   "execution_count": 63,
   "id": "725c42ed-542b-4553-84f4-5a0bb794a904",
   "metadata": {},
   "outputs": [
    {
     "data": {
      "text/html": [
       "<div>\n",
       "<style scoped>\n",
       "    .dataframe tbody tr th:only-of-type {\n",
       "        vertical-align: middle;\n",
       "    }\n",
       "\n",
       "    .dataframe tbody tr th {\n",
       "        vertical-align: top;\n",
       "    }\n",
       "\n",
       "    .dataframe thead th {\n",
       "        text-align: right;\n",
       "    }\n",
       "</style>\n",
       "<table border=\"1\" class=\"dataframe\">\n",
       "  <thead>\n",
       "    <tr style=\"text-align: right;\">\n",
       "      <th></th>\n",
       "      <th>Chegada Real</th>\n",
       "      <th>Situação Voo</th>\n",
       "      <th>Nome Empresas</th>\n",
       "      <th>Nacional ou Estrangeira</th>\n",
       "      <th>Partida Prevista</th>\n",
       "      <th>Partida Real</th>\n",
       "      <th>Cidade_Origem</th>\n",
       "      <th>UF_Origem</th>\n",
       "      <th>País_Origem</th>\n",
       "      <th>Continente_Origem</th>\n",
       "      <th>Cidade_Destino</th>\n",
       "      <th>UF_Destino</th>\n",
       "      <th>País_Destino</th>\n",
       "      <th>Continente_Destino</th>\n",
       "    </tr>\n",
       "  </thead>\n",
       "  <tbody>\n",
       "    <tr>\n",
       "      <th>0</th>\n",
       "      <td>02/03/2024 08:18</td>\n",
       "      <td>REALIZADO</td>\n",
       "      <td>AMERICAN AIRLINES INC</td>\n",
       "      <td>ESTRANGEIRA</td>\n",
       "      <td>2024-01-03 23:55:00</td>\n",
       "      <td>2024-01-03 23:48:00</td>\n",
       "      <td>RIO DE JANEIRO</td>\n",
       "      <td>RJ</td>\n",
       "      <td>BRASIL</td>\n",
       "      <td>AMERICA DO SUL</td>\n",
       "      <td>MIAMI</td>\n",
       "      <td>NaN</td>\n",
       "      <td>ESTADOS UNIDOS DA AMERICA</td>\n",
       "      <td>AMERICA DO NORTE</td>\n",
       "    </tr>\n",
       "    <tr>\n",
       "      <th>1</th>\n",
       "      <td>01/03/2024 11:42</td>\n",
       "      <td>REALIZADO</td>\n",
       "      <td>AMERICAN AIRLINES INC</td>\n",
       "      <td>ESTRANGEIRA</td>\n",
       "      <td>2024-01-03 23:55:00</td>\n",
       "      <td>2024-01-03 03:38:00</td>\n",
       "      <td>MIAMI</td>\n",
       "      <td>NaN</td>\n",
       "      <td>ESTADOS UNIDOS DA AMERICA</td>\n",
       "      <td>AMERICA DO NORTE</td>\n",
       "      <td>RIO DE JANEIRO</td>\n",
       "      <td>RJ</td>\n",
       "      <td>BRASIL</td>\n",
       "      <td>AMERICA DO SUL</td>\n",
       "    </tr>\n",
       "    <tr>\n",
       "      <th>2</th>\n",
       "      <td>01/03/2024 08:11</td>\n",
       "      <td>REALIZADO</td>\n",
       "      <td>AMERICAN AIRLINES INC</td>\n",
       "      <td>ESTRANGEIRA</td>\n",
       "      <td>2024-01-03 00:55:00</td>\n",
       "      <td>2024-01-03 00:09:00</td>\n",
       "      <td>GUARULHOS</td>\n",
       "      <td>SP</td>\n",
       "      <td>BRASIL</td>\n",
       "      <td>AMERICA DO SUL</td>\n",
       "      <td>MIAMI</td>\n",
       "      <td>NaN</td>\n",
       "      <td>ESTADOS UNIDOS DA AMERICA</td>\n",
       "      <td>AMERICA DO NORTE</td>\n",
       "    </tr>\n",
       "  </tbody>\n",
       "</table>\n",
       "</div>"
      ],
      "text/plain": [
       "       Chegada Real Situação Voo          Nome Empresas  \\\n",
       "0  02/03/2024 08:18    REALIZADO  AMERICAN AIRLINES INC   \n",
       "1  01/03/2024 11:42    REALIZADO  AMERICAN AIRLINES INC   \n",
       "2  01/03/2024 08:11    REALIZADO  AMERICAN AIRLINES INC   \n",
       "\n",
       "  Nacional ou Estrangeira    Partida Prevista        Partida Real  \\\n",
       "0             ESTRANGEIRA 2024-01-03 23:55:00 2024-01-03 23:48:00   \n",
       "1             ESTRANGEIRA 2024-01-03 23:55:00 2024-01-03 03:38:00   \n",
       "2             ESTRANGEIRA 2024-01-03 00:55:00 2024-01-03 00:09:00   \n",
       "\n",
       "    Cidade_Origem UF_Origem                País_Origem Continente_Origem  \\\n",
       "0  RIO DE JANEIRO        RJ                     BRASIL    AMERICA DO SUL   \n",
       "1           MIAMI       NaN  ESTADOS UNIDOS DA AMERICA  AMERICA DO NORTE   \n",
       "2       GUARULHOS        SP                     BRASIL    AMERICA DO SUL   \n",
       "\n",
       "   Cidade_Destino UF_Destino               País_Destino Continente_Destino  \n",
       "0           MIAMI        NaN  ESTADOS UNIDOS DA AMERICA   AMERICA DO NORTE  \n",
       "1  RIO DE JANEIRO         RJ                     BRASIL     AMERICA DO SUL  \n",
       "2           MIAMI        NaN  ESTADOS UNIDOS DA AMERICA   AMERICA DO NORTE  "
      ]
     },
     "execution_count": 63,
     "metadata": {},
     "output_type": "execute_result"
    }
   ],
   "source": [
    "df_selecao.head(3)"
   ]
  },
  {
   "cell_type": "markdown",
   "id": "d8ee0772-f65f-43e7-9a9f-52d848fdc6c6",
   "metadata": {},
   "source": [
    "Como não tem coluna indicado se o voo atrasou, vamos calcular operando as colunas partida real x partida prevista:"
   ]
  },
  {
   "cell_type": "code",
   "execution_count": 78,
   "id": "fcba479b-3953-4251-bf7e-11576df4c589",
   "metadata": {},
   "outputs": [],
   "source": [
    "df_status = df_selecao.copy()"
   ]
  },
  {
   "cell_type": "markdown",
   "id": "234e0c20-1273-4ecd-a334-340075c73754",
   "metadata": {},
   "source": [
    "Nessa análise quero manter apenas os voos realizados"
   ]
  },
  {
   "cell_type": "code",
   "execution_count": 85,
   "id": "5c64abe1-3025-4b7b-878c-e41a94513878",
   "metadata": {},
   "outputs": [],
   "source": [
    "df_status = df_status[df_status['Situação Voo'] == 'REALIZADO']"
   ]
  },
  {
   "cell_type": "markdown",
   "id": "8878c274-4fbb-48e1-a39e-58710f0e3347",
   "metadata": {},
   "source": [
    "Excluindo linhas sem informação de partida real ou partida prevista:"
   ]
  },
  {
   "cell_type": "code",
   "execution_count": 86,
   "id": "cb9ae723-98f9-4854-b1cd-20c91e881068",
   "metadata": {},
   "outputs": [
    {
     "data": {
      "text/html": [
       "<div>\n",
       "<style scoped>\n",
       "    .dataframe tbody tr th:only-of-type {\n",
       "        vertical-align: middle;\n",
       "    }\n",
       "\n",
       "    .dataframe tbody tr th {\n",
       "        vertical-align: top;\n",
       "    }\n",
       "\n",
       "    .dataframe thead th {\n",
       "        text-align: right;\n",
       "    }\n",
       "</style>\n",
       "<table border=\"1\" class=\"dataframe\">\n",
       "  <thead>\n",
       "    <tr style=\"text-align: right;\">\n",
       "      <th></th>\n",
       "      <th>Partida Real</th>\n",
       "      <th>Partida Prevista</th>\n",
       "    </tr>\n",
       "  </thead>\n",
       "  <tbody>\n",
       "    <tr>\n",
       "      <th>0</th>\n",
       "      <td>2024-01-03 23:48:00</td>\n",
       "      <td>2024-01-03 23:55:00</td>\n",
       "    </tr>\n",
       "    <tr>\n",
       "      <th>1</th>\n",
       "      <td>2024-01-03 03:38:00</td>\n",
       "      <td>2024-01-03 23:55:00</td>\n",
       "    </tr>\n",
       "    <tr>\n",
       "      <th>2</th>\n",
       "      <td>2024-01-03 00:09:00</td>\n",
       "      <td>2024-01-03 00:55:00</td>\n",
       "    </tr>\n",
       "    <tr>\n",
       "      <th>3</th>\n",
       "      <td>2024-01-03 21:58:00</td>\n",
       "      <td>2024-01-03 20:50:00</td>\n",
       "    </tr>\n",
       "    <tr>\n",
       "      <th>4</th>\n",
       "      <td>2024-01-03 22:34:00</td>\n",
       "      <td>2024-01-03 22:30:00</td>\n",
       "    </tr>\n",
       "    <tr>\n",
       "      <th>...</th>\n",
       "      <td>...</td>\n",
       "      <td>...</td>\n",
       "    </tr>\n",
       "    <tr>\n",
       "      <th>81494</th>\n",
       "      <td>2024-12-03 17:11:00</td>\n",
       "      <td>2024-12-03 17:35:00</td>\n",
       "    </tr>\n",
       "    <tr>\n",
       "      <th>81495</th>\n",
       "      <td>2024-12-03 06:15:00</td>\n",
       "      <td>2024-12-03 06:40:00</td>\n",
       "    </tr>\n",
       "    <tr>\n",
       "      <th>81496</th>\n",
       "      <td>2024-12-03 10:20:00</td>\n",
       "      <td>2024-12-03 10:30:00</td>\n",
       "    </tr>\n",
       "    <tr>\n",
       "      <th>81551</th>\n",
       "      <td>2024-07-03 13:14:00</td>\n",
       "      <td>2024-07-03 13:30:00</td>\n",
       "    </tr>\n",
       "    <tr>\n",
       "      <th>81552</th>\n",
       "      <td>2024-07-03 16:13:00</td>\n",
       "      <td>2024-07-03 16:40:00</td>\n",
       "    </tr>\n",
       "  </tbody>\n",
       "</table>\n",
       "<p>29419 rows × 2 columns</p>\n",
       "</div>"
      ],
      "text/plain": [
       "             Partida Real    Partida Prevista\n",
       "0     2024-01-03 23:48:00 2024-01-03 23:55:00\n",
       "1     2024-01-03 03:38:00 2024-01-03 23:55:00\n",
       "2     2024-01-03 00:09:00 2024-01-03 00:55:00\n",
       "3     2024-01-03 21:58:00 2024-01-03 20:50:00\n",
       "4     2024-01-03 22:34:00 2024-01-03 22:30:00\n",
       "...                   ...                 ...\n",
       "81494 2024-12-03 17:11:00 2024-12-03 17:35:00\n",
       "81495 2024-12-03 06:15:00 2024-12-03 06:40:00\n",
       "81496 2024-12-03 10:20:00 2024-12-03 10:30:00\n",
       "81551 2024-07-03 13:14:00 2024-07-03 13:30:00\n",
       "81552 2024-07-03 16:13:00 2024-07-03 16:40:00\n",
       "\n",
       "[29419 rows x 2 columns]"
      ]
     },
     "execution_count": 86,
     "metadata": {},
     "output_type": "execute_result"
    }
   ],
   "source": [
    "df_status[['Partida Real','Partida Prevista']].dropna(how='any')"
   ]
  },
  {
   "cell_type": "code",
   "execution_count": 87,
   "id": "7fc1565d-4c89-4df1-ac9e-77b155c9a387",
   "metadata": {},
   "outputs": [
    {
     "data": {
      "text/html": [
       "<div>\n",
       "<style scoped>\n",
       "    .dataframe tbody tr th:only-of-type {\n",
       "        vertical-align: middle;\n",
       "    }\n",
       "\n",
       "    .dataframe tbody tr th {\n",
       "        vertical-align: top;\n",
       "    }\n",
       "\n",
       "    .dataframe thead th {\n",
       "        text-align: right;\n",
       "    }\n",
       "</style>\n",
       "<table border=\"1\" class=\"dataframe\">\n",
       "  <thead>\n",
       "    <tr style=\"text-align: right;\">\n",
       "      <th></th>\n",
       "      <th>Partida Real</th>\n",
       "      <th>Partida Prevista</th>\n",
       "    </tr>\n",
       "  </thead>\n",
       "  <tbody>\n",
       "    <tr>\n",
       "      <th>0</th>\n",
       "      <td>2024-01-03 23:48:00</td>\n",
       "      <td>2024-01-03 23:55:00</td>\n",
       "    </tr>\n",
       "    <tr>\n",
       "      <th>1</th>\n",
       "      <td>2024-01-03 03:38:00</td>\n",
       "      <td>2024-01-03 23:55:00</td>\n",
       "    </tr>\n",
       "    <tr>\n",
       "      <th>2</th>\n",
       "      <td>2024-01-03 00:09:00</td>\n",
       "      <td>2024-01-03 00:55:00</td>\n",
       "    </tr>\n",
       "    <tr>\n",
       "      <th>3</th>\n",
       "      <td>2024-01-03 21:58:00</td>\n",
       "      <td>2024-01-03 20:50:00</td>\n",
       "    </tr>\n",
       "    <tr>\n",
       "      <th>4</th>\n",
       "      <td>2024-01-03 22:34:00</td>\n",
       "      <td>2024-01-03 22:30:00</td>\n",
       "    </tr>\n",
       "  </tbody>\n",
       "</table>\n",
       "</div>"
      ],
      "text/plain": [
       "         Partida Real    Partida Prevista\n",
       "0 2024-01-03 23:48:00 2024-01-03 23:55:00\n",
       "1 2024-01-03 03:38:00 2024-01-03 23:55:00\n",
       "2 2024-01-03 00:09:00 2024-01-03 00:55:00\n",
       "3 2024-01-03 21:58:00 2024-01-03 20:50:00\n",
       "4 2024-01-03 22:34:00 2024-01-03 22:30:00"
      ]
     },
     "execution_count": 87,
     "metadata": {},
     "output_type": "execute_result"
    }
   ],
   "source": [
    "df_status[['Partida Real','Partida Prevista']].head(5)"
   ]
  },
  {
   "cell_type": "markdown",
   "id": "55555d7a-2074-4380-91dd-8168b6ade191",
   "metadata": {},
   "source": [
    "Abaixo calculamos a diferença, em segundos, entre as 2 colunas"
   ]
  },
  {
   "cell_type": "code",
   "execution_count": 107,
   "id": "861c89a4-adf6-46bb-83cc-3f7f234d28de",
   "metadata": {},
   "outputs": [
    {
     "data": {
      "text/html": [
       "<div>\n",
       "<style scoped>\n",
       "    .dataframe tbody tr th:only-of-type {\n",
       "        vertical-align: middle;\n",
       "    }\n",
       "\n",
       "    .dataframe tbody tr th {\n",
       "        vertical-align: top;\n",
       "    }\n",
       "\n",
       "    .dataframe thead th {\n",
       "        text-align: right;\n",
       "    }\n",
       "</style>\n",
       "<table border=\"1\" class=\"dataframe\">\n",
       "  <thead>\n",
       "    <tr style=\"text-align: right;\">\n",
       "      <th></th>\n",
       "      <th>Partida Real</th>\n",
       "      <th>Partida Prevista</th>\n",
       "      <th>Diferença_segundos</th>\n",
       "    </tr>\n",
       "  </thead>\n",
       "  <tbody>\n",
       "    <tr>\n",
       "      <th>0</th>\n",
       "      <td>2024-01-03 23:48:00</td>\n",
       "      <td>2024-01-03 23:55:00</td>\n",
       "      <td>-420.0</td>\n",
       "    </tr>\n",
       "    <tr>\n",
       "      <th>1</th>\n",
       "      <td>2024-01-03 03:38:00</td>\n",
       "      <td>2024-01-03 23:55:00</td>\n",
       "      <td>-73020.0</td>\n",
       "    </tr>\n",
       "    <tr>\n",
       "      <th>2</th>\n",
       "      <td>2024-01-03 00:09:00</td>\n",
       "      <td>2024-01-03 00:55:00</td>\n",
       "      <td>-2760.0</td>\n",
       "    </tr>\n",
       "    <tr>\n",
       "      <th>3</th>\n",
       "      <td>2024-01-03 21:58:00</td>\n",
       "      <td>2024-01-03 20:50:00</td>\n",
       "      <td>4080.0</td>\n",
       "    </tr>\n",
       "    <tr>\n",
       "      <th>4</th>\n",
       "      <td>2024-01-03 22:34:00</td>\n",
       "      <td>2024-01-03 22:30:00</td>\n",
       "      <td>240.0</td>\n",
       "    </tr>\n",
       "  </tbody>\n",
       "</table>\n",
       "</div>"
      ],
      "text/plain": [
       "         Partida Real    Partida Prevista  Diferença_segundos\n",
       "0 2024-01-03 23:48:00 2024-01-03 23:55:00              -420.0\n",
       "1 2024-01-03 03:38:00 2024-01-03 23:55:00            -73020.0\n",
       "2 2024-01-03 00:09:00 2024-01-03 00:55:00             -2760.0\n",
       "3 2024-01-03 21:58:00 2024-01-03 20:50:00              4080.0\n",
       "4 2024-01-03 22:34:00 2024-01-03 22:30:00               240.0"
      ]
     },
     "execution_count": 107,
     "metadata": {},
     "output_type": "execute_result"
    }
   ],
   "source": [
    "df_status.loc[:,'Diferença_segundos'] = (pd.to_datetime(df_status['Partida Real'], errors='coerce') - pd.to_datetime(df_status['Partida Prevista'], errors='coerce')).dt.total_seconds()\n",
    "df_status[['Partida Real','Partida Prevista','Diferença_segundos']].head(5)"
   ]
  },
  {
   "cell_type": "markdown",
   "id": "b8883327-c71e-4d37-8784-eeacf8964793",
   "metadata": {},
   "source": [
    "Observamos que Diferença_segundos < 0 indicam voos adiantados e Diferença_segundos > 0, atrasados. Assim, vamos categorizá-los:"
   ]
  },
  {
   "cell_type": "code",
   "execution_count": 113,
   "id": "7a6a82d8-8729-4a10-93ae-f3dc5b60f09f",
   "metadata": {},
   "outputs": [],
   "source": [
    "# Pontual = diferença da hora prevista para realizada de 5 minutos ou menos, seja adiantada ou atrasada\n",
    "df_status.loc[df_status['Diferença_segundos'].abs() <= 300, 'Status_voo'] = 'Pontual'\n",
    "\n",
    "# Atraso de 5 a 20 min:\n",
    "df_status.loc[(df_status['Diferença_segundos'].abs() > 300) & (df_status['Diferença_segundos'].abs() <= 1200), 'Status_voo'] = 'De 5 a 20min atrasado/adiantado'\n",
    "\n",
    "# Atraso de mais de 20min\n",
    "df_status.loc[df_status['Diferença_segundos'].abs() > 1200, 'Status_voo'] = '20min+ atrasado/adiantado'"
   ]
  },
  {
   "cell_type": "code",
   "execution_count": 115,
   "id": "502c466d-442c-4b5c-bf34-898decaa5f7e",
   "metadata": {},
   "outputs": [
    {
     "data": {
      "text/plain": [
       "Status_voo\n",
       "De 5 a 20min atrasado/adiantado    0.45\n",
       "Pontual                            0.41\n",
       "20min+ atrasado/adiantado          0.14\n",
       "Name: proportion, dtype: float64"
      ]
     },
     "execution_count": 115,
     "metadata": {},
     "output_type": "execute_result"
    }
   ],
   "source": [
    "df_status['Status_voo'].value_counts(normalize=True).round(2)"
   ]
  },
  {
   "cell_type": "code",
   "execution_count": null,
   "id": "ab402bac-f314-4830-9c0d-55af309b74cd",
   "metadata": {},
   "outputs": [],
   "source": []
  }
 ],
 "metadata": {
  "kernelspec": {
   "display_name": "Python 3 (ipykernel)",
   "language": "python",
   "name": "python3"
  },
  "language_info": {
   "codemirror_mode": {
    "name": "ipython",
    "version": 3
   },
   "file_extension": ".py",
   "mimetype": "text/x-python",
   "name": "python",
   "nbconvert_exporter": "python",
   "pygments_lexer": "ipython3",
   "version": "3.12.3"
  }
 },
 "nbformat": 4,
 "nbformat_minor": 5
}
